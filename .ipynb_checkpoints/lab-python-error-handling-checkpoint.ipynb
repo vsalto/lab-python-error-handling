{
 "cells": [
  {
   "cell_type": "markdown",
   "id": "25d7736c-ba17-4aff-b6bb-66eba20fbf4e",
   "metadata": {},
   "source": [
    "# Lab | Error Handling"
   ]
  },
  {
   "cell_type": "markdown",
   "id": "bc99b386-7508-47a0-bcdb-d969deaf6c8b",
   "metadata": {},
   "source": [
    "## Exercise: Error Handling for Managing Customer Orders\n",
    "\n",
    "The implementation of your code for managing customer orders assumes that the user will always enter a valid input. \n",
    "\n",
    "For example, we could modify the `initialize_inventory` function to include error handling.\n",
    "   - If the user enters an invalid quantity (e.g., a negative value or a non-numeric value), display an error message and ask them to re-enter the quantity for that product.\n",
    "   - Use a try-except block to handle the error and continue prompting the user until a valid quantity is entered.\n",
    "\n",
    "```python\n",
    "# Step 1: Define the function for initializing the inventory with error handling\n",
    "def initialize_inventory(products):\n",
    "    inventory = {}\n",
    "    for product in products:\n",
    "        valid_quantity = False\n",
    "        while not valid_quantity:\n",
    "            try:\n",
    "                quantity = int(input(f\"Enter the quantity of {product}s available: \"))\n",
    "                if quantity < 0:\n",
    "                    raise ValueError(\"Invalid quantity! Please enter a non-negative value.\")\n",
    "                valid_quantity = True\n",
    "            except ValueError as error:\n",
    "                print(f\"Error: {error}\")\n",
    "        inventory[product] = quantity\n",
    "    return inventory\n",
    "\n",
    "# Or, in another way:\n",
    "\n",
    "def initialize_inventory(products):\n",
    "    inventory = {}\n",
    "    for product in products:\n",
    "        valid_input = False\n",
    "        while not valid_input:\n",
    "            try:\n",
    "                quantity = int(input(f\"Enter the quantity of {product}s available: \"))\n",
    "                if quantity >= 0:\n",
    "                    inventory[product] = quantity\n",
    "                    valid_input = True\n",
    "                else:\n",
    "                    print(\"Quantity cannot be negative. Please enter a valid quantity.\")\n",
    "            except ValueError:\n",
    "                print(\"Invalid input. Please enter a valid quantity.\")\n",
    "    return inventory\n",
    "```\n",
    "\n",
    "Let's enhance your code by implementing error handling to handle invalid inputs.\n",
    "\n",
    "Follow the steps below to complete the exercise:\n",
    "\n",
    "2. Modify the `calculate_total_price` function to include error handling.\n",
    "   - If the user enters an invalid price (e.g., a negative value or a non-numeric value), display an error message and ask them to re-enter the price for that product.\n",
    "   - Use a try-except block to handle the error and continue prompting the user until a valid price is entered.\n",
    "\n",
    "3. Modify the `get_customer_orders` function to include error handling.\n",
    "   - If the user enters an invalid number of orders (e.g., a negative value or a non-numeric value), display an error message and ask them to re-enter the number of orders.\n",
    "   - If the user enters an invalid product name (e.g., a product name that is not in the inventory), or that doesn't have stock available, display an error message and ask them to re-enter the product name. *Hint: you will need to pass inventory as a parameter*\n",
    "   - Use a try-except block to handle the error and continue prompting the user until a valid product name is entered.\n",
    "\n",
    "4. Test your code by running the program and deliberately entering invalid quantities and product names. Make sure the error handling mechanism works as expected.\n"
   ]
  },
  {
   "cell_type": "code",
   "execution_count": 35,
   "id": "0331de37",
   "metadata": {},
   "outputs": [],
   "source": [
    "# Step 1: Define the function for initializing the inventory with error handling\n",
    "# 1. Modify the calculate_total_price function to include error handling.\n",
    "\n",
    "# If the user enters an invalid price (e.g., a negative value or a non-numeric value), \n",
    "# display an error message and ask them to re-enter the price for that product.\n",
    "#Use a try-except block to handle the error and continue prompting the user until a valid price is entered.\n",
    "\n",
    "def initialize_inventory(product_list):\n",
    "    inventory = {}\n",
    "    for product in product_list:\n",
    "        valid_quantity = False\n",
    "        while not valid_quantity:\n",
    "            try:\n",
    "                quantity = int(input(f\"Enter the quantity of {product}s available: \"))\n",
    "                if quantity < 0:\n",
    "                    raise ValueError(\"Invalid quantity! Please enter a non-negative value.\")\n",
    "                valid_quantity = True\n",
    "            except ValueError as error:\n",
    "                print(f\"Error: {error}\")\n",
    "        inventory[product] = quantity\n",
    "    return inventory\n",
    "\n",
    "def initialize_price_list (product_list):\n",
    "    price_list = {}\n",
    "    for product in product_list:\n",
    "        valid_price = False\n",
    "        while not valid_price:\n",
    "            try:\n",
    "                price = int(input(f\"Enter the price of the {product}: \"))\n",
    "                if price < 0:\n",
    "                    raise ValueError(\"Invalid quantity! Please enter a non-negative value.\")\n",
    "                valid_price = True\n",
    "            except ValueError as error:\n",
    "                print(f\"Error: {error}\") \n",
    "       \n",
    "        price_list[product] = price\n",
    "        \n",
    "    return price_list"
   ]
  },
  {
   "cell_type": "code",
   "execution_count": 36,
   "id": "0ad5dada",
   "metadata": {},
   "outputs": [
    {
     "name": "stdout",
     "output_type": "stream",
     "text": [
      "Enter the quantity of t-shirts available: 2\n",
      "Enter the quantity of mugs available: 1\n",
      "Enter the quantity of hats available: 0\n",
      "Enter the quantity of books available: 6\n",
      "Enter the quantity of keychains available: 5\n"
     ]
    },
    {
     "data": {
      "text/plain": [
       "{'t-shirt': 2, 'mug': 1, 'hat': 0, 'book': 6, 'keychain': 5}"
      ]
     },
     "execution_count": 36,
     "metadata": {},
     "output_type": "execute_result"
    }
   ],
   "source": [
    "products = [\"t-shirt\", \"mug\", \"hat\", \"book\", \"keychain\"]\n",
    "inventory = initialize_inventory(products)\n",
    "inventory"
   ]
  },
  {
   "cell_type": "code",
   "execution_count": 37,
   "id": "02e220c1",
   "metadata": {},
   "outputs": [
    {
     "name": "stdout",
     "output_type": "stream",
     "text": [
      "Enter the price of the t-shirt: 2\n",
      "Enter the price of the mug: 8\n",
      "Enter the price of the hat: 6\n",
      "Enter the price of the book: 2\n",
      "Enter the price of the keychain: 5\n",
      "The price of the products in Euros is {'t-shirt': 2, 'mug': 8, 'hat': 6, 'book': 2, 'keychain': 5}\n"
     ]
    }
   ],
   "source": [
    "price_list = initialize_price_list(products)\n",
    "print('The price of the products in Euros is ' + str(price_list))"
   ]
  },
  {
   "cell_type": "code",
   "execution_count": 38,
   "id": "b5e3bea8",
   "metadata": {},
   "outputs": [
    {
     "data": {
      "text/plain": [
       "dict"
      ]
     },
     "execution_count": 38,
     "metadata": {},
     "output_type": "execute_result"
    }
   ],
   "source": [
    "type(price_list)"
   ]
  },
  {
   "cell_type": "code",
   "execution_count": 39,
   "id": "27f83115",
   "metadata": {},
   "outputs": [],
   "source": [
    "# 2. Modify the get_customer_orders function to include error handling.\n",
    "\n",
    "# If the user enters an invalid number of orders (e.g., a negative value or a non-numeric value), \n",
    "# display an error message and ask them to re-enter the number of orders.\n",
    "# If the user enters an invalid product name (e.g., a product name that is not in the inventory), \n",
    "# or that doesn't have stock available, display an error message and ask them to re-enter the product name. \n",
    "# Hint: you will need to pass inventory as a parameter\n",
    "# Use a try-except block to handle the error and continue prompting the user until a valid product name is entered.\n",
    "\n",
    "def get_customer_orders(product_list, inventory):\n",
    "    a = str(product_list)\n",
    "    \n",
    "    valid_number = False\n",
    "    while not valid_number:\n",
    "        try:\n",
    "            total_customer_order = int(input('Please enter the number of products you want to order out of ' + a))\n",
    "            if total_customer_order <= 0:\n",
    "                raise ValueError(\"Invalid quantity! Please enter a non-negative value.\")\n",
    "            valid_number = True\n",
    "        except ValueError as error:\n",
    "                print(f\"Error: {error}\") \n",
    "                \n",
    "    customer_orders = {}\n",
    "    \n",
    "    for i in range(total_customer_order):\n",
    "        valid_product = False\n",
    "        while not valid_product:\n",
    "            try: \n",
    "                product = input('Please enter the product that you want to order out of ' + a )\n",
    "                quantity = int(input('and the amount of it '))    \n",
    "                \n",
    "                if product not in a:\n",
    "                    raise ValueError(\"Invalid product! Please enter a product from the list \"  + a)\n",
    "                valid_product = True\n",
    "            except ValueError as error:\n",
    "                print(f\"Error: {error}\")                \n",
    "                \n",
    "                \n",
    "                #inventory[product] -= quantity\n",
    "                \n",
    "        if inventory.get(product,0) <= 0:\n",
    "            print ('The product is not available') \n",
    "            answer = input('Do you want to continue with another product? (y/n) ')\n",
    "            if answer != 'y':\n",
    "                continue\n",
    "                            \n",
    "        customer_orders[product] = quantity\n",
    "    return customer_orders\n",
    "    #print('The total number you ordered in pieces is ' + str(total_customer_order))\n",
    "    #print('The products ordered are ' + str(customer_orders))\n",
    "    \n",
    "\n",
    "def calculate_total_price (price_list,customer_orders):\n",
    "    total_cost = sum(price_list[item] for item in customer_orders)\n",
    "    print('The total price of the order in Euros is ' + str(total_cost))\n",
    "    return total_cost\n"
   ]
  },
  {
   "cell_type": "code",
   "execution_count": 40,
   "id": "98ebdc94",
   "metadata": {},
   "outputs": [
    {
     "name": "stdout",
     "output_type": "stream",
     "text": [
      "Please enter the number of products you want to order out of ['t-shirt', 'mug', 'hat', 'book', 'keychain']2\n",
      "Please enter the product that you want to order out of ['t-shirt', 'mug', 'hat', 'book', 'keychain']hat\n",
      "and the amount of it 1\n",
      "The product is not available\n",
      "Do you want to continue with another product? (y/n) y\n",
      "Please enter the product that you want to order out of ['t-shirt', 'mug', 'hat', 'book', 'keychain']hat\n",
      "and the amount of it 1\n",
      "The product is not available\n",
      "Do you want to continue with another product? (y/n) n\n"
     ]
    },
    {
     "data": {
      "text/plain": [
       "{'hat': 1}"
      ]
     },
     "execution_count": 40,
     "metadata": {},
     "output_type": "execute_result"
    }
   ],
   "source": [
    "customer_orders = get_customer_orders(products, inventory)\n",
    "customer_orders"
   ]
  },
  {
   "cell_type": "code",
   "execution_count": 42,
   "id": "f62604be",
   "metadata": {},
   "outputs": [
    {
     "name": "stdout",
     "output_type": "stream",
     "text": [
      "The total price of the order in Euros is 6\n"
     ]
    }
   ],
   "source": [
    "total_cost = calculate_total_price (price_list,customer_orders)"
   ]
  }
 ],
 "metadata": {
  "kernelspec": {
   "display_name": "Python 3 (ipykernel)",
   "language": "python",
   "name": "python3"
  },
  "language_info": {
   "codemirror_mode": {
    "name": "ipython",
    "version": 3
   },
   "file_extension": ".py",
   "mimetype": "text/x-python",
   "name": "python",
   "nbconvert_exporter": "python",
   "pygments_lexer": "ipython3",
   "version": "3.11.7"
  }
 },
 "nbformat": 4,
 "nbformat_minor": 5
}
